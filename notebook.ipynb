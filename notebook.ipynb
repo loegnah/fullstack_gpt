{
 "cells": [
  {
   "cell_type": "code",
   "execution_count": 42,
   "id": "84915c12354f929a",
   "metadata": {
    "collapsed": false,
    "ExecuteTime": {
     "end_time": "2023-11-23T14:23:27.428476Z",
     "start_time": "2023-11-23T14:23:27.372885Z"
    }
   },
   "outputs": [],
   "source": [
    "from dotenv import dotenv_values\n",
    "import os\n",
    "\n",
    "env_vars = dotenv_values('.env')\n",
    "\n",
    "os.environ['OPENAI_API_KEY'] = env_vars.get('OPENAI_API_KEY');"
   ]
  },
  {
   "cell_type": "code",
   "execution_count": 51,
   "outputs": [
    {
     "data": {
      "text/plain": "'What is the capital of Korea'"
     },
     "execution_count": 51,
     "metadata": {},
     "output_type": "execute_result"
    }
   ],
   "source": [
    "from langchain.chat_models import ChatOpenAI\n",
    "from langchain.callbacks import StreamingStdOutCallbackHandler\n",
    "from langchain.prompts import load_prompt\n",
    "\n",
    "chat = ChatOpenAI(\n",
    "    temperature=0.1,\n",
    "    streaming=True,\n",
    "    callbacks=[StreamingStdOutCallbackHandler()]\n",
    ")\n",
    "\n",
    "prompt = load_prompt(\"./prompt.json\")\n",
    "\n",
    "prompt.format(country=\"Korea\")"
   ],
   "metadata": {
    "collapsed": false,
    "ExecuteTime": {
     "end_time": "2023-11-23T14:50:40.964348Z",
     "start_time": "2023-11-23T14:50:40.958350Z"
    }
   },
   "id": "3c685a4c012098b2"
  },
  {
   "cell_type": "code",
   "execution_count": 43,
   "outputs": [],
   "source": [],
   "metadata": {
    "collapsed": false,
    "ExecuteTime": {
     "end_time": "2023-11-23T14:23:27.428823Z",
     "start_time": "2023-11-23T14:23:27.384951Z"
    }
   },
   "id": "e6157cf106685232"
  }
 ],
 "metadata": {
  "kernelspec": {
   "display_name": "Python 3",
   "language": "python",
   "name": "python3"
  },
  "language_info": {
   "codemirror_mode": {
    "name": "ipython",
    "version": 2
   },
   "file_extension": ".py",
   "mimetype": "text/x-python",
   "name": "python",
   "nbconvert_exporter": "python",
   "pygments_lexer": "ipython2",
   "version": "2.7.6"
  }
 },
 "nbformat": 4,
 "nbformat_minor": 5
}
