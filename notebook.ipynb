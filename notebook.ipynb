{
 "cells": [
  {
   "cell_type": "code",
   "execution_count": 42,
   "id": "84915c12354f929a",
   "metadata": {
    "collapsed": false,
    "ExecuteTime": {
     "end_time": "2023-11-23T14:23:27.428476Z",
     "start_time": "2023-11-23T14:23:27.372885Z"
    }
   },
   "outputs": [],
   "source": [
    "from dotenv import dotenv_values\n",
    "import os\n",
    "\n",
    "env_vars = dotenv_values('.env')\n",
    "\n",
    "os.environ['OPENAI_API_KEY'] = env_vars.get('OPENAI_API_KEY');"
   ]
  },
  {
   "cell_type": "code",
   "execution_count": 60,
   "outputs": [
    {
     "name": "stdout",
     "output_type": "stream",
     "text": [
      "\u001B[32;1m\u001B[1;3m[llm/start]\u001B[0m \u001B[1m[1:llm:ChatOpenAI] Entering LLM run with input:\n",
      "\u001B[0m{\n",
      "  \"prompts\": [\n",
      "    \"Human: What is the Korea?\"\n",
      "  ]\n",
      "}\n",
      "\u001B[36;1m\u001B[1;3m[llm/end]\u001B[0m \u001B[1m[1:llm:ChatOpenAI] [10.82s] Exiting LLM run with output:\n",
      "\u001B[0m{\n",
      "  \"generations\": [\n",
      "    [\n",
      "      {\n",
      "        \"text\": \"Korea refers to a region located in East Asia, divided into two separate countries: North Korea (officially known as the Democratic People's Republic of Korea) and South Korea (officially known as the Republic of Korea). The division occurred after World War II, with North Korea adopting a communist regime and South Korea embracing a democratic system. The two countries have different governments, economies, and political ideologies.\",\n",
      "        \"generation_info\": {\n",
      "          \"finish_reason\": \"stop\"\n",
      "        },\n",
      "        \"type\": \"ChatGeneration\",\n",
      "        \"message\": {\n",
      "          \"lc\": 1,\n",
      "          \"type\": \"constructor\",\n",
      "          \"id\": [\n",
      "            \"langchain\",\n",
      "            \"schema\",\n",
      "            \"messages\",\n",
      "            \"AIMessage\"\n",
      "          ],\n",
      "          \"kwargs\": {\n",
      "            \"content\": \"Korea refers to a region located in East Asia, divided into two separate countries: North Korea (officially known as the Democratic People's Republic of Korea) and South Korea (officially known as the Republic of Korea). The division occurred after World War II, with North Korea adopting a communist regime and South Korea embracing a democratic system. The two countries have different governments, economies, and political ideologies.\",\n",
      "            \"additional_kwargs\": {}\n",
      "          }\n",
      "        }\n",
      "      }\n",
      "    ]\n",
      "  ],\n",
      "  \"llm_output\": {\n",
      "    \"token_usage\": {\n",
      "      \"prompt_tokens\": 12,\n",
      "      \"completion_tokens\": 81,\n",
      "      \"total_tokens\": 93\n",
      "    },\n",
      "    \"model_name\": \"gpt-3.5-turbo\",\n",
      "    \"system_fingerprint\": \"\"\n",
      "  },\n",
      "  \"run\": null\n",
      "}\n"
     ]
    },
    {
     "data": {
      "text/plain": "\"Korea refers to a region located in East Asia, divided into two separate countries: North Korea (officially known as the Democratic People's Republic of Korea) and South Korea (officially known as the Republic of Korea). The division occurred after World War II, with North Korea adopting a communist regime and South Korea embracing a democratic system. The two countries have different governments, economies, and political ideologies.\""
     },
     "execution_count": 60,
     "metadata": {},
     "output_type": "execute_result"
    }
   ],
   "source": [
    "\n",
    "from langchain.chat_models import ChatOpenAI\n",
    "from langchain.callbacks import StreamingStdOutCallbackHandler\n",
    "from langchain.globals import set_llm_cache, set_debug\n",
    "from langchain.cache import InMemoryCache, SQLiteCache\n",
    "\n",
    "# set_llm_cache(InMemoryCache())\n",
    "set_llm_cache(SQLiteCache('cache.db'))\n",
    "set_debug(True)\n",
    "\n",
    "chat = ChatOpenAI(\n",
    "    temperature=0.1,\n",
    "    # streaming=True,\n",
    "    # callbacks=[\n",
    "    #     StreamingStdOutCallbackHandler(),\n",
    "    # ],\n",
    ")\n",
    "\n",
    "chat.predict(\"What is the Korea?\")"
   ],
   "metadata": {
    "collapsed": false,
    "ExecuteTime": {
     "end_time": "2023-11-23T15:38:59.054994Z",
     "start_time": "2023-11-23T15:38:48.195359Z"
    }
   },
   "id": "3c685a4c012098b2"
  },
  {
   "cell_type": "code",
   "execution_count": 57,
   "outputs": [
    {
     "data": {
      "text/plain": "\"Korea refers to a region located in East Asia, divided into two separate countries: North Korea (officially known as the Democratic People's Republic of Korea) and South Korea (officially known as the Republic of Korea). The division occurred after World War II, with North Korea adopting a communist regime and South Korea embracing a democratic system. The two countries have different governments, economies, and political ideologies.\""
     },
     "execution_count": 57,
     "metadata": {},
     "output_type": "execute_result"
    }
   ],
   "source": [
    "chat.predict(\"What is the Korea?\")"
   ],
   "metadata": {
    "collapsed": false,
    "ExecuteTime": {
     "end_time": "2023-11-23T14:58:59.667189Z",
     "start_time": "2023-11-23T14:58:59.646765Z"
    }
   },
   "id": "6541b505cbfdb01c"
  },
  {
   "cell_type": "code",
   "execution_count": null,
   "outputs": [],
   "source": [],
   "metadata": {
    "collapsed": false
   },
   "id": "67c058671f742ee0"
  }
 ],
 "metadata": {
  "kernelspec": {
   "display_name": "Python 3",
   "language": "python",
   "name": "python3"
  },
  "language_info": {
   "codemirror_mode": {
    "name": "ipython",
    "version": 2
   },
   "file_extension": ".py",
   "mimetype": "text/x-python",
   "name": "python",
   "nbconvert_exporter": "python",
   "pygments_lexer": "ipython2",
   "version": "2.7.6"
  }
 },
 "nbformat": 4,
 "nbformat_minor": 5
}
